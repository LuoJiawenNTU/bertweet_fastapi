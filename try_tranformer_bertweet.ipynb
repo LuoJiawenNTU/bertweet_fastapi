{
 "cells": [
  {
   "cell_type": "code",
   "execution_count": 1,
   "metadata": {},
   "outputs": [
    {
     "name": "stderr",
     "output_type": "stream",
     "text": [
      "c:\\Users\\may35\\.virtualenvs\\docker_fastapi_bertweet-DYhY0QOF\\lib\\site-packages\\tqdm\\auto.py:21: TqdmWarning: IProgress not found. Please update jupyter and ipywidgets. See https://ipywidgets.readthedocs.io/en/stable/user_install.html\n",
      "  from .autonotebook import tqdm as notebook_tqdm\n"
     ]
    }
   ],
   "source": [
    "from transformers import pipeline"
   ]
  },
  {
   "cell_type": "code",
   "execution_count": 2,
   "metadata": {},
   "outputs": [
    {
     "name": "stderr",
     "output_type": "stream",
     "text": [
      "Xformers is not installed correctly. If you want to use memory_efficient_attention to accelerate training use the following command to install Xformers\n",
      "pip install xformers.\n"
     ]
    }
   ],
   "source": [
    "pipeline_bertweet = pipeline('sentiment-analysis', model='finiteautomata/bertweet-base-sentiment-analysis')"
   ]
  },
  {
   "cell_type": "code",
   "execution_count": 3,
   "metadata": {},
   "outputs": [],
   "source": [
    "input_sentence = \"It is a sunny day.\""
   ]
  },
  {
   "cell_type": "code",
   "execution_count": 4,
   "metadata": {},
   "outputs": [
    {
     "name": "stdout",
     "output_type": "stream",
     "text": [
      "[{'label': 'POS', 'score': 0.9714552164077759}]\n"
     ]
    }
   ],
   "source": [
    "output_for_sentence = pipeline_bertweet(input_sentence)\n",
    "print(output_for_sentence)"
   ]
  },
  {
   "cell_type": "code",
   "execution_count": 5,
   "metadata": {},
   "outputs": [
    {
     "name": "stdout",
     "output_type": "stream",
     "text": [
      "POS\n",
      "0.9714552164077759\n"
     ]
    }
   ],
   "source": [
    "print(output_for_sentence[0]['label'])\n",
    "print(output_for_sentence[0]['score'])"
   ]
  },
  {
   "cell_type": "code",
   "execution_count": 6,
   "metadata": {},
   "outputs": [
    {
     "name": "stdout",
     "output_type": "stream",
     "text": [
      "Positive\n",
      "0.9714552164077759\n"
     ]
    }
   ],
   "source": [
    "from util_get_sentiment import sentiment_bertweet\n",
    "\n",
    "output_for_sentence_label, output_for_sentence_score = sentiment_bertweet(input_sentence)\n",
    "print(output_for_sentence_label)\n",
    "print(output_for_sentence_score)"
   ]
  },
  {
   "cell_type": "code",
   "execution_count": 7,
   "metadata": {},
   "outputs": [],
   "source": [
    "input_list = [\n",
    "    \"It is a sunny day.\",\n",
    "    \"going out\",\n",
    "    \"Patient feels back pain.\",\n",
    "    \"fine\",\n",
    "    \"fine :)\",\n",
    "    \"fine :(\"\n",
    "]"
   ]
  },
  {
   "cell_type": "code",
   "execution_count": 8,
   "metadata": {},
   "outputs": [
    {
     "name": "stdout",
     "output_type": "stream",
     "text": [
      "{'label': 'POS', 'score': 0.9714552164077759}\n",
      "{'label': 'NEU', 'score': 0.9105209708213806}\n",
      "{'label': 'NEG', 'score': 0.9063352942466736}\n",
      "{'label': 'NEU', 'score': 0.741199254989624}\n",
      "{'label': 'POS', 'score': 0.9091575145721436}\n",
      "{'label': 'NEG', 'score': 0.91446852684021}\n"
     ]
    }
   ],
   "source": [
    "output_for_list = pipeline_bertweet(input_list)\n",
    "\n",
    "for dict_in_list in output_for_list:\n",
    "    print(dict_in_list)"
   ]
  }
 ],
 "metadata": {
  "kernelspec": {
   "display_name": "docker_fastapi_bert-P6HWzY00",
   "language": "python",
   "name": "python3"
  },
  "language_info": {
   "codemirror_mode": {
    "name": "ipython",
    "version": 3
   },
   "file_extension": ".py",
   "mimetype": "text/x-python",
   "name": "python",
   "nbconvert_exporter": "python",
   "pygments_lexer": "ipython3",
   "version": "3.7.9"
  },
  "orig_nbformat": 4
 },
 "nbformat": 4,
 "nbformat_minor": 2
}
